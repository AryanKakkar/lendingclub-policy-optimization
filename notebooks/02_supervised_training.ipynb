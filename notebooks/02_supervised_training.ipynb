{
 "cells": [
  {
   "cell_type": "code",
   "execution_count": 1,
   "id": "db20505d",
   "metadata": {},
   "outputs": [],
   "source": [
    "import os, json, joblib, numpy as np, pandas as pd, matplotlib.pyplot as plt\n",
    "from pathlib import Path\n",
    "from sklearn.metrics import roc_auc_score, f1_score, precision_recall_curve, roc_curve, auc\n",
    "from sklearn.preprocessing import FunctionTransformer\n",
    "import torch, torch.nn as nn, torch.nn.functional as F\n",
    "from torch.utils.data import DataLoader, TensorDataset\n",
    "from datetime import datetime\n",
    "\n",
    "# Paths\n",
    "DATA_PATH   = Path(\"/Users/macaryan/Coding/Shodh_AI/lendingclub-policy-optimization/data/accepted_2007_to_2018Q4.csv\")   # adjust if filename differs\n",
    "PREPROC_PKL = Path(\"/Users/macaryan/Coding/Shodh_AI/lendingclub-policy-optimization/notebooks/preprocessor.joblib\")\n",
    "ARTIFACTS   = Path(\".\")\n",
    "ARTIFACTS.mkdir(exist_ok=True)\n",
    "\n",
    "plt.rcParams[\"figure.figsize\"] = (6,4)\n",
    "pd.set_option(\"display.max_columns\", 200)\n",
    "\n",
    "# Reuse the same feature lists as Task-1\n",
    "NUM_COLS = [\"loan_amnt\",\"int_rate\",\"emp_length\",\"annual_inc\",\"dti\",\"delinq_2yrs\",\n",
    "            \"inq_last_6mths\",\"open_acc\",\"pub_rec\",\"revol_util\",\"total_acc\",\"mort_acc\",\n",
    "            \"fico_range_low\",\"fico_range_high\"]\n",
    "CAT_COLS = [\"term\",\"home_ownership\",\"verification_status\",\"purpose\",\"addr_state\",\"application_type\"]\n",
    "META_COLS = [\"issue_d\",\"loan_amnt\",\"int_rate\"]\n"
   ]
  },
  {
   "cell_type": "code",
   "execution_count": 18,
   "id": "108019f0",
   "metadata": {},
   "outputs": [],
   "source": [
    "# Make 'src' importable from notebooks\n",
    "import sys\n",
    "from pathlib import Path\n",
    "\n",
    "PROJECT_ROOT = Path.cwd().parent if Path.cwd().name == \"notebooks\" else Path.cwd()\n",
    "if str(PROJECT_ROOT) not in sys.path:\n",
    "    sys.path.insert(0, str(PROJECT_ROOT))\n"
   ]
  },
  {
   "cell_type": "code",
   "execution_count": 2,
   "id": "97be29e4",
   "metadata": {},
   "outputs": [],
   "source": [
    "# Target mapping\n",
    "DEFAULTS = {\n",
    "    \"Charged Off\",\"Default\",\"Late (31-120 days)\",\"Late (16-30 days)\",\n",
    "    \"Does not meet the credit policy. Status:Charged Off\"\n",
    "}\n",
    "PAID = {\"Fully Paid\",\"Does not meet the credit policy. Status:Fully Paid\"}\n",
    "\n",
    "def pct_to_float(s: pd.Series):\n",
    "    return pd.to_numeric(s.astype(str).str.replace(\"%\",\"\", regex=False), errors=\"coerce\")/100.0\n",
    "\n",
    "def term_to_months(s: pd.Series):\n",
    "    return pd.to_numeric(s.astype(str).str.extract(r\"(\\d+)\")[0], errors=\"coerce\")\n",
    "\n",
    "def emp_to_years(s: pd.Series):\n",
    "    s = s.astype(str).str.lower().str.strip()\n",
    "    s = s.replace({\"n/a\": np.nan})\n",
    "    s = s.str.replace(\"< 1 year\",\"0\", regex=False)\n",
    "    s = s.str.replace(\"10+ years\",\"10\", regex=False)\n",
    "    return pd.to_numeric(s.str.extract(r\"(\\d+)\")[0], errors=\"coerce\")\n"
   ]
  },
  {
   "cell_type": "code",
   "execution_count": 7,
   "id": "28284ff4",
   "metadata": {},
   "outputs": [
    {
     "ename": "AttributeError",
     "evalue": "'DataFrame' object has no attribute 'str'",
     "output_type": "error",
     "traceback": [
      "\u001b[31m---------------------------------------------------------------------------\u001b[39m",
      "\u001b[31mAttributeError\u001b[39m                            Traceback (most recent call last)",
      "\u001b[32m/var/folders/kl/5sdgbj8s269c2hpt6znrxwjw0000gn/T/ipykernel_76187/3728514186.py\u001b[39m in \u001b[36m?\u001b[39m\u001b[34m()\u001b[39m\n\u001b[32m     12\u001b[39m keep = [c \u001b[38;5;28;01mfor\u001b[39;00m c \u001b[38;5;28;01min\u001b[39;00m (NUM_COLS + CAT_COLS + META_COLS + [\u001b[33m\"y\"\u001b[39m]) \u001b[38;5;28;01mif\u001b[39;00m c \u001b[38;5;28;01min\u001b[39;00m df.columns]\n\u001b[32m     13\u001b[39m df = df[keep].copy()\n\u001b[32m     14\u001b[39m \n\u001b[32m     15\u001b[39m \u001b[38;5;66;03m# conversions\u001b[39;00m\n\u001b[32m---> \u001b[39m\u001b[32m16\u001b[39m \u001b[38;5;28;01mif\u001b[39;00m \u001b[33m\"int_rate\"\u001b[39m \u001b[38;5;28;01min\u001b[39;00m df:      df[\u001b[33m\"int_rate\"\u001b[39m]  = pct_to_float(df[\u001b[33m\"int_rate\"\u001b[39m])\n\u001b[32m     17\u001b[39m \u001b[38;5;28;01mif\u001b[39;00m \u001b[33m\"revol_util\"\u001b[39m \u001b[38;5;28;01min\u001b[39;00m df:    df[\u001b[33m\"revol_util\"\u001b[39m]= pct_to_float(df[\u001b[33m\"revol_util\"\u001b[39m])\n\u001b[32m     18\u001b[39m \u001b[38;5;28;01mif\u001b[39;00m \u001b[33m\"term\"\u001b[39m \u001b[38;5;28;01min\u001b[39;00m df:          df[\u001b[33m\"term\"\u001b[39m]      = term_to_months(df[\u001b[33m\"term\"\u001b[39m])\n\u001b[32m     19\u001b[39m \u001b[38;5;28;01mif\u001b[39;00m \u001b[33m\"emp_length\"\u001b[39m \u001b[38;5;28;01min\u001b[39;00m df:    df[\u001b[33m\"emp_length\"\u001b[39m]= emp_to_years(df[\u001b[33m\"emp_length\"\u001b[39m])\n",
      "\u001b[32m/var/folders/kl/5sdgbj8s269c2hpt6znrxwjw0000gn/T/ipykernel_76187/1532374540.py\u001b[39m in \u001b[36m?\u001b[39m\u001b[34m(s)\u001b[39m\n\u001b[32m      8\u001b[39m \u001b[38;5;28;01mdef\u001b[39;00m pct_to_float(s: pd.Series):\n\u001b[32m----> \u001b[39m\u001b[32m9\u001b[39m     \u001b[38;5;28;01mreturn\u001b[39;00m pd.to_numeric(s.astype(str).str.replace(\u001b[33m\"%\"\u001b[39m,\u001b[33m\"\"\u001b[39m, regex=\u001b[38;5;28;01mFalse\u001b[39;00m), errors=\u001b[33m\"coerce\"\u001b[39m)/\u001b[32m100.0\u001b[39m\n",
      "\u001b[32m~/Coding/Shodh_AI/lendingclub-policy-optimization/.venv/lib/python3.11/site-packages/pandas/core/generic.py\u001b[39m in \u001b[36m?\u001b[39m\u001b[34m(self, name)\u001b[39m\n\u001b[32m   6295\u001b[39m             \u001b[38;5;28;01mand\u001b[39;00m name \u001b[38;5;28;01mnot\u001b[39;00m \u001b[38;5;28;01min\u001b[39;00m self._accessors\n\u001b[32m   6296\u001b[39m             \u001b[38;5;28;01mand\u001b[39;00m self._info_axis._can_hold_identifiers_and_holds_name(name)\n\u001b[32m   6297\u001b[39m         ):\n\u001b[32m   6298\u001b[39m             \u001b[38;5;28;01mreturn\u001b[39;00m self[name]\n\u001b[32m-> \u001b[39m\u001b[32m6299\u001b[39m         \u001b[38;5;28;01mreturn\u001b[39;00m object.__getattribute__(self, name)\n",
      "\u001b[31mAttributeError\u001b[39m: 'DataFrame' object has no attribute 'str'"
     ]
    }
   ],
   "source": [
    "df = pd.read_csv(DATA_PATH, low_memory=False)\n",
    "\n",
    "# keep only statuses we can map to binary; drop 'Current'\n",
    "df = df[df[\"loan_status\"].isin(DEFAULTS | PAID)].copy()\n",
    "df[\"y\"] = df[\"loan_status\"].isin(DEFAULTS).astype(int)\n",
    "\n",
    "# parse issue_d to datetime\n",
    "df[\"issue_d\"] = pd.to_datetime(df[\"issue_d\"], format=\"%b-%Y\", errors=\"coerce\")\n",
    "df = df.dropna(subset=[\"issue_d\"]).sort_values(\"issue_d\")\n",
    "\n",
    "# Select pre-decision columns + meta\n",
    "keep = [c for c in (NUM_COLS + CAT_COLS + META_COLS + [\"y\"]) if c in df.columns]\n",
    "df = df[keep].copy()\n",
    "\n",
    "# conversions\n",
    "if \"int_rate\" in df:      df[\"int_rate\"]  = pct_to_float(df[\"int_rate\"])\n",
    "if \"revol_util\" in df:    df[\"revol_util\"]= pct_to_float(df[\"revol_util\"])\n",
    "if \"term\" in df:          df[\"term\"]      = term_to_months(df[\"term\"])\n",
    "if \"emp_length\" in df:    df[\"emp_length\"]= emp_to_years(df[\"emp_length\"])\n",
    "\n",
    "for c in NUM_COLS:\n",
    "    if c in df.columns:\n",
    "        df[c] = pd.to_numeric(df[c], errors=\"coerce\")\n",
    "\n",
    "# time split\n",
    "train = df[df[\"issue_d\"] < \"2017-01-01\"].copy()\n",
    "valid = df[(df[\"issue_d\"] >= \"2017-01-01\") & (df[\"issue_d\"] < \"2018-01-01\")].copy()\n",
    "test  = df[df[\"issue_d\"] >= \"2018-01-01\"].copy()\n",
    "\n",
    "def get_blocks(frame):\n",
    "    X = frame[NUM_COLS + CAT_COLS].copy()\n",
    "    y = frame[\"y\"].values.astype(np.int64)\n",
    "    meta = frame[[\"loan_amnt\",\"int_rate\"]].copy()\n",
    "    return X, y, meta\n",
    "\n",
    "Xtr_raw, ytr, tr_meta = get_blocks(train)\n",
    "Xva_raw, yva, va_meta = get_blocks(valid)\n",
    "Xte_raw, yte, te_meta = get_blocks(test)\n",
    "\n",
    "print(\"Shapes (raw):\", Xtr_raw.shape, Xva_raw.shape, Xte_raw.shape)\n",
    "print(\"Class balance train (1=default):\", ytr.mean().round(4))\n"
   ]
  },
  {
   "cell_type": "code",
   "execution_count": null,
   "id": "b3abf2b7",
   "metadata": {},
   "outputs": [
    {
     "name": "stdout",
     "output_type": "stream",
     "text": [
      "Shapes (raw): (1129956, 20) (178817, 20) (65142, 20)\n",
      "Class balance train (1=default): 0.2025\n"
     ]
    }
   ],
   "source": [
    "df.columns = df.columns.str.strip()           # remove hidden spaces\n",
    "df = df.loc[:, ~df.columns.duplicated()] \n",
    "\n",
    "# conversions\n",
    "if \"int_rate\" in df:      df[\"int_rate\"]  = pct_to_float(df[\"int_rate\"])\n",
    "if \"revol_util\" in df:    df[\"revol_util\"]= pct_to_float(df[\"revol_util\"])\n",
    "if \"term\" in df:          df[\"term\"]      = term_to_months(df[\"term\"])\n",
    "if \"emp_length\" in df:    df[\"emp_length\"]= emp_to_years(df[\"emp_length\"])\n",
    "\n",
    "for c in NUM_COLS:\n",
    "    if c in df.columns:\n",
    "        df[c] = pd.to_numeric(df[c], errors=\"coerce\")\n",
    "\n",
    "# time split\n",
    "train = df[df[\"issue_d\"] < \"2017-01-01\"].copy()\n",
    "valid = df[(df[\"issue_d\"] >= \"2017-01-01\") & (df[\"issue_d\"] < \"2018-01-01\")].copy()\n",
    "test  = df[df[\"issue_d\"] >= \"2018-01-01\"].copy()\n",
    "\n",
    "def get_blocks(frame):\n",
    "    X = frame[NUM_COLS + CAT_COLS].copy()\n",
    "    y = frame[\"y\"].values.astype(np.int64)\n",
    "    meta = frame[[\"loan_amnt\",\"int_rate\"]].copy()\n",
    "    return X, y, meta\n",
    "\n",
    "Xtr_raw, ytr, tr_meta = get_blocks(train)\n",
    "Xva_raw, yva, va_meta = get_blocks(valid)\n",
    "Xte_raw, yte, te_meta = get_blocks(test)\n",
    "\n",
    "print(\"Shapes (raw):\", Xtr_raw.shape, Xva_raw.shape, Xte_raw.shape)\n",
    "print(\"Class balance train (1=default):\", ytr.mean().round(4))"
   ]
  },
  {
   "cell_type": "code",
   "execution_count": 20,
   "id": "a52ecfd3",
   "metadata": {},
   "outputs": [
    {
     "data": {
      "text/plain": [
       "((1129956, 63), (178817, 63), (65142, 63))"
      ]
     },
     "execution_count": 20,
     "metadata": {},
     "output_type": "execute_result"
    }
   ],
   "source": [
    "preprocessor = joblib.load(PREPROC_PKL)\n",
    "\n",
    "def transform_df(pre, X_df):\n",
    "    X = pre.transform(X_df)\n",
    "    # ColumnTransformer may return sparse; convert to dense for PyTorch if needed\n",
    "    if hasattr(X, \"toarray\"):\n",
    "        X = X.toarray()\n",
    "    return X\n",
    "\n",
    "Xtr = transform_df(preprocessor, Xtr_raw)\n",
    "Xva = transform_df(preprocessor, Xva_raw)\n",
    "Xte = transform_df(preprocessor, Xte_raw)\n",
    "\n",
    "Xtr.shape, Xva.shape, Xte.shape\n"
   ]
  },
  {
   "cell_type": "code",
   "execution_count": 19,
   "id": "5feb6b84",
   "metadata": {},
   "outputs": [
    {
     "name": "stdout",
     "output_type": "stream",
     "text": [
      "OK: src.features is importable\n"
     ]
    }
   ],
   "source": [
    "import importlib\n",
    "import src\n",
    "from src import features\n",
    "from src.features import make_preprocessor\n",
    "print(\"OK: src.features is importable\")\n"
   ]
  },
  {
   "cell_type": "code",
   "execution_count": 21,
   "id": "353c0afc",
   "metadata": {},
   "outputs": [],
   "source": [
    "class MLP(nn.Module):\n",
    "    def __init__(self, in_dim):\n",
    "        super().__init__()\n",
    "        self.net = nn.Sequential(\n",
    "            nn.Linear(in_dim, 256), nn.BatchNorm1d(256), nn.ReLU(), nn.Dropout(0.10),\n",
    "            nn.Linear(256, 128),    nn.BatchNorm1d(128), nn.ReLU(), nn.Dropout(0.10),\n",
    "            nn.Linear(128, 1)\n",
    "        )\n",
    "    def forward(self, x):\n",
    "        return self.net(x).squeeze(-1)\n",
    "\n",
    "def train_mlp(X_tr, y_tr, X_va, y_va, pos_weight=None, epochs=20, bs=4096, lr=1e-3):\n",
    "    device = \"cuda\" if torch.cuda.is_available() else \"cpu\"\n",
    "    model = MLP(X_tr.shape[1]).to(device)\n",
    "    opt = torch.optim.AdamW(model.parameters(), lr=lr, weight_decay=1e-5)\n",
    "    if pos_weight is None:\n",
    "        loss_fn = nn.BCEWithLogitsLoss()\n",
    "    else:\n",
    "        loss_fn = nn.BCEWithLogitsLoss(pos_weight=torch.tensor([pos_weight], device=device))\n",
    "    tr_loader = DataLoader(TensorDataset(torch.from_numpy(X_tr).float(),\n",
    "                                         torch.from_numpy(y_tr).float()),\n",
    "                           batch_size=bs, shuffle=True, drop_last=False)\n",
    "    best_auc, best_state = -1, None\n",
    "    for ep in range(1, epochs+1):\n",
    "        model.train()\n",
    "        for xb, yb in tr_loader:\n",
    "            xb, yb = xb.to(device), yb.to(device)\n",
    "            logits = model(xb)\n",
    "            loss = loss_fn(logits, yb)\n",
    "            opt.zero_grad(); loss.backward(); opt.step()\n",
    "        # validate\n",
    "        model.eval()\n",
    "        with torch.no_grad():\n",
    "            va_logits = model(torch.from_numpy(X_va).float().to(device)).cpu().numpy().ravel()\n",
    "            va_probs  = 1/(1+np.exp(-va_logits))\n",
    "            auc_val   = roc_auc_score(y_va, va_probs)\n",
    "        if auc_val > best_auc:\n",
    "            best_auc, best_state = auc_val, model.state_dict().copy()\n",
    "        print(f\"Epoch {ep:02d} | Val AUC: {auc_val:.4f}\")\n",
    "    model.load_state_dict(best_state)\n",
    "    return model, best_auc\n",
    "\n",
    "def predict_proba(model, X):\n",
    "    device = next(model.parameters()).device\n",
    "    model.eval()\n",
    "    with torch.no_grad():\n",
    "        logits = model(torch.from_numpy(X).float().to(device)).cpu().numpy().ravel()\n",
    "        return 1/(1+np.exp(-logits))\n"
   ]
  },
  {
   "cell_type": "code",
   "execution_count": 22,
   "id": "4fb2d0cf",
   "metadata": {},
   "outputs": [
    {
     "name": "stdout",
     "output_type": "stream",
     "text": [
      "Epoch 01 | Val AUC: 0.7043\n",
      "Epoch 02 | Val AUC: 0.7056\n",
      "Epoch 03 | Val AUC: 0.7044\n",
      "Epoch 04 | Val AUC: 0.7036\n",
      "Epoch 05 | Val AUC: 0.7066\n",
      "Epoch 06 | Val AUC: 0.7063\n",
      "Epoch 07 | Val AUC: 0.7043\n",
      "Epoch 08 | Val AUC: 0.7063\n",
      "Epoch 09 | Val AUC: 0.7061\n",
      "Epoch 10 | Val AUC: 0.7070\n",
      "Epoch 11 | Val AUC: 0.7055\n",
      "Epoch 12 | Val AUC: 0.7046\n",
      "Epoch 13 | Val AUC: 0.7070\n",
      "Epoch 14 | Val AUC: 0.7046\n",
      "Epoch 15 | Val AUC: 0.7037\n",
      "Epoch 16 | Val AUC: 0.7054\n",
      "Epoch 17 | Val AUC: 0.7057\n",
      "Epoch 18 | Val AUC: 0.7046\n",
      "Epoch 19 | Val AUC: 0.7061\n",
      "Epoch 20 | Val AUC: 0.7063\n",
      "Best Val AUC: 0.707\n",
      "Val  AUC: 0.7063 | F1@0.5: 0.5033\n",
      "Test AUC: 0.7064 | F1@0.5: 0.5055\n"
     ]
    }
   ],
   "source": [
    "# class imbalance weight: neg/pos\n",
    "pos = ytr.sum()\n",
    "neg = len(ytr) - pos\n",
    "pos_weight = float(neg / max(pos, 1))\n",
    "\n",
    "model, best_val_auc = train_mlp(Xtr, ytr, Xva, yva, pos_weight=pos_weight, epochs=20, bs=4096, lr=1e-3)\n",
    "print(\"Best Val AUC:\", round(best_val_auc, 4))\n",
    "\n",
    "# Evaluate on test\n",
    "p_va = predict_proba(model, Xva)\n",
    "p_te = predict_proba(model, Xte)\n",
    "\n",
    "auc_val = roc_auc_score(yva, p_va)\n",
    "auc_te  = roc_auc_score(yte, p_te)\n",
    "\n",
    "f1_val_05 = f1_score(yva, (p_va >= 0.5).astype(int))\n",
    "f1_te_05  = f1_score(yte, (p_te >= 0.5).astype(int))\n",
    "\n",
    "print(f\"Val  AUC: {auc_val:.4f} | F1@0.5: {f1_val_05:.4f}\")\n",
    "print(f\"Test AUC: {auc_te:.4f} | F1@0.5: {f1_te_05:.4f}\")\n"
   ]
  },
  {
   "cell_type": "code",
   "execution_count": 23,
   "id": "0581be82",
   "metadata": {},
   "outputs": [
    {
     "name": "stdout",
     "output_type": "stream",
     "text": [
      "Best Val F1 @thr=0.470: 0.5048\n",
      "Test F1  @thr=0.470: 0.5067\n"
     ]
    }
   ],
   "source": [
    "def best_f1_threshold(y_true, probs):\n",
    "    pr, rc, th = precision_recall_curve(y_true, probs)\n",
    "    # derive F1 per threshold\n",
    "    f1s, ths = [], []\n",
    "    for t in np.linspace(0.01, 0.99, 99):\n",
    "        f1s.append(f1_score(y_true, (probs >= t).astype(int)))\n",
    "        ths.append(t)\n",
    "    i = int(np.argmax(f1s))\n",
    "    return ths[i], f1s[i]\n",
    "\n",
    "th_opt, f1_val_opt = best_f1_threshold(yva, p_va)\n",
    "f1_te_opt = f1_score(yte, (p_te >= th_opt).astype(int))\n",
    "print(f\"Best Val F1 @thr={th_opt:.3f}: {f1_val_opt:.4f}\")\n",
    "print(f\"Test F1  @thr={th_opt:.3f}: {f1_te_opt:.4f}\")\n"
   ]
  },
  {
   "cell_type": "code",
   "execution_count": 24,
   "id": "52fab71b",
   "metadata": {},
   "outputs": [
    {
     "name": "stdout",
     "output_type": "stream",
     "text": [
      "Val Profit-aware F1 (reference): 0.4296\n",
      "Test Profit-aware F1 (reference): 0.4294\n"
     ]
    }
   ],
   "source": [
    "def break_even_p(int_rate, lgd=1.0, cost=0.0):\n",
    "    # approve if (1-p)*G - p*L > 0  =>  p < G/(L+G), with G=int_rate, L=lgd (scale-free)\n",
    "    G = np.maximum(int_rate - cost, 0.0)\n",
    "    L = lgd\n",
    "    return G / (L + G + 1e-12)\n",
    "\n",
    "pstar_va = break_even_p(va_meta[\"int_rate\"].values)\n",
    "pstar_te = break_even_p(te_meta[\"int_rate\"].values)\n",
    "\n",
    "# DL policy: approve if p̂(default) < p*\n",
    "dl_decision_va = (p_va < pstar_va).astype(int)  # 1=approve, 0=deny\n",
    "dl_decision_te = (p_te < pstar_te).astype(int)\n",
    "\n",
    "# Report F1 on default-classification viewpoint (reference only)\n",
    "f1_profit_val = f1_score(yva, (p_va >= pstar_va).astype(int))\n",
    "f1_profit_te  = f1_score(yte, (p_te >= pstar_te).astype(int))\n",
    "\n",
    "print(f\"Val Profit-aware F1 (reference): {f1_profit_val:.4f}\")\n",
    "print(f\"Test Profit-aware F1 (reference): {f1_profit_te:.4f}\")\n"
   ]
  },
  {
   "cell_type": "code",
   "execution_count": 25,
   "id": "65c39fe9",
   "metadata": {},
   "outputs": [
    {
     "data": {
      "image/png": "[encoded data removed]",
      "text/plain": [
       "<Figure size 600x400 with 1 Axes>"
      ]
     },
     "metadata": {},
     "output_type": "display_data"
    },
    {
     "data": {
      "image/png": "[encoded data removed]",
      "text/plain": [
       "<Figure size 600x400 with 1 Axes>"
      ]
     },
     "metadata": {},
     "output_type": "display_data"
    },
    {
     "data": {
      "text/plain": [
       "{'val_auc': 0.70629882021086,\n",
       " 'test_auc': 0.7064011249300899,\n",
       " 'val_f1@0.5': 0.5032741581808897,\n",
       " 'test_f1@0.5': 0.5055083412023922,\n",
       " 'val_best_f1_threshold': 0.47000000000000003,\n",
       " 'val_best_f1': 0.5048080278014263,\n",
       " 'test_f1@best_val_thr': 0.5066729563456965,\n",
       " 'val_profit_ref_f1': 0.42960620461812976,\n",
       " 'test_profit_ref_f1': 0.4294059778714308}"
      ]
     },
     "execution_count": 25,
     "metadata": {},
     "output_type": "execute_result"
    }
   ],
   "source": [
    "# ROC & PR curves (validation)\n",
    "fpr, tpr, _ = roc_curve(yva, p_va)\n",
    "prec, rec, _ = precision_recall_curve(yva, p_va)\n",
    "\n",
    "plt.plot(fpr, tpr); plt.plot([0,1],[0,1],'--'); plt.title(f\"ROC (Val) AUC={auc(fpr,tpr):.3f}\")\n",
    "plt.xlabel(\"FPR\"); plt.ylabel(\"TPR\"); plt.show()\n",
    "\n",
    "plt.plot(rec, prec); plt.title(\"PR (Val)\")\n",
    "plt.xlabel(\"Recall\"); plt.ylabel(\"Precision\"); plt.show()\n",
    "\n",
    "# Save artifacts\n",
    "torch.save(model.state_dict(), ARTIFACTS / \"mlp_model.pt\")\n",
    "np.save(ARTIFACTS / \"test_predictions.npy\", p_te)\n",
    "\n",
    "metrics = {\n",
    "    \"val_auc\": float(auc_val),\n",
    "    \"test_auc\": float(auc_te),\n",
    "    \"val_f1@0.5\": float(f1_val_05),\n",
    "    \"test_f1@0.5\": float(f1_te_05),\n",
    "    \"val_best_f1_threshold\": float(th_opt),\n",
    "    \"val_best_f1\": float(f1_val_opt),\n",
    "    \"test_f1@best_val_thr\": float(f1_te_opt),\n",
    "    \"val_profit_ref_f1\": float(f1_profit_val),\n",
    "    \"test_profit_ref_f1\": float(f1_profit_te),\n",
    "}\n",
    "with open(ARTIFACTS / \"metrics.json\", \"w\") as f:\n",
    "    json.dump(metrics, f, indent=2)\n",
    "\n",
    "metrics\n"
   ]
  },
  {
   "cell_type": "code",
   "execution_count": null,
   "id": "12e1ffd5",
   "metadata": {},
   "outputs": [],
   "source": []
  }
 ],
 "metadata": {
  "kernelspec": {
   "display_name": ".venv (3.11.7)",
   "language": "python",
   "name": "python3"
  },
  "language_info": {
   "codemirror_mode": {
    "name": "ipython",
    "version": 3
   },
   "file_extension": ".py",
   "mimetype": "text/x-python",
   "name": "python",
   "nbconvert_exporter": "python",
   "pygments_lexer": "ipython3",
   "version": "3.11.7"
  }
 },
 "nbformat": 4,
 "nbformat_minor": 5
}
